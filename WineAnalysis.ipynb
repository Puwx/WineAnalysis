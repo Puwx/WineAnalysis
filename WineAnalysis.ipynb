{
 "cells": [
  {
   "cell_type": "markdown",
   "metadata": {},
   "source": [
    "# Wine Analysis\n",
    "\n",
    "### This notebook shows some interesting patterns that exist in the [Global Wine Points](https://data.world/markpowell/global-wine-points) dataset that can be found on data.world.\n",
    "\n",
    "#### The dataset was created by Mark Powell so a massive thanks goes out to him for creating such an interesting dataset."
   ]
  },
  {
   "cell_type": "code",
   "execution_count": 1,
   "metadata": {},
   "outputs": [],
   "source": [
    "import re\n",
    "\n",
    "import numpy as np\n",
    "import pandas as pd\n",
    "import seaborn as sns\n",
    "\n",
    "import matplotlib.pyplot as plt\n",
    "\n",
    "df = pd.read_excel(r'https://query.data.world/s/5z5a6phj6xbcpgb55fao7bu6hhhlnp')"
   ]
  },
  {
   "cell_type": "markdown",
   "metadata": {},
   "source": [
    "#### Cleaning up some of the columns to increase the analysis that can occur.\n",
    "\n",
    "*This analysis has a large focus on the price of each of the wines and for that reason rows with no price value will be dropped since interpolating their results would be challenging and would possible lead to incorrect assumptions.*"
   ]
  },
  {
   "cell_type": "code",
   "execution_count": 2,
   "metadata": {},
   "outputs": [],
   "source": [
    "#Price column is an object column type by default by we will want to convert that to a numeric type.\n",
    "df.dropna(subset=['Price'],inplace=True)\n",
    "df['Price'] = df['Price'].apply(lambda x: float(re.sub(r'[,\\$]','',x)))\n"
   ]
  },
  {
   "cell_type": "markdown",
   "metadata": {},
   "source": [
    "#### First things first, let's see what countries have the most wines in this dataset"
   ]
  },
  {
   "cell_type": "code",
   "execution_count": 3,
   "metadata": {},
   "outputs": [],
   "source": [
    "popCountries = pd.DataFrame(df['Country'].value_counts().head().reset_index())"
   ]
  },
  {
   "cell_type": "code",
   "execution_count": 4,
   "metadata": {},
   "outputs": [
    {
     "data": {
      "image/png": "[encoded data removed]",
      "text/plain": [
       "<Figure size 432x288 with 1 Axes>"
      ]
     },
     "metadata": {
      "needs_background": "light"
     },
     "output_type": "display_data"
    }
   ],
   "source": [
    "popCountriesBar = sns.barplot(data=popCountries,x='index',y='Country')\n",
    "popCountriesBar.set(xlabel='Country', ylabel='Count')\n",
    "plt.show()"
   ]
  },
  {
   "cell_type": "markdown",
   "metadata": {},
   "source": [
    "#### The US seems to be produce the most wine (according to this dataset). Let's see some specific numbers that display this production different between the top 5 countries."
   ]
  },
  {
   "cell_type": "code",
   "execution_count": 5,
   "metadata": {},
   "outputs": [
    {
     "data": {
      "text/html": [
       "<div>\n",
       "<style scoped>\n",
       "    .dataframe tbody tr th:only-of-type {\n",
       "        vertical-align: middle;\n",
       "    }\n",
       "\n",
       "    .dataframe tbody tr th {\n",
       "        vertical-align: top;\n",
       "    }\n",
       "\n",
       "    .dataframe thead th {\n",
       "        text-align: right;\n",
       "    }\n",
       "</style>\n",
       "<table border=\"1\" class=\"dataframe\">\n",
       "  <thead>\n",
       "    <tr style=\"text-align: right;\">\n",
       "      <th></th>\n",
       "      <th>Country</th>\n",
       "      <th>Count</th>\n",
       "    </tr>\n",
       "  </thead>\n",
       "  <tbody>\n",
       "    <tr>\n",
       "      <th>0</th>\n",
       "      <td>US</td>\n",
       "      <td>10538</td>\n",
       "    </tr>\n",
       "    <tr>\n",
       "      <th>1</th>\n",
       "      <td>France</td>\n",
       "      <td>3286</td>\n",
       "    </tr>\n",
       "    <tr>\n",
       "      <th>2</th>\n",
       "      <td>Italy</td>\n",
       "      <td>3228</td>\n",
       "    </tr>\n",
       "    <tr>\n",
       "      <th>3</th>\n",
       "      <td>Spain</td>\n",
       "      <td>1239</td>\n",
       "    </tr>\n",
       "    <tr>\n",
       "      <th>4</th>\n",
       "      <td>Portugal</td>\n",
       "      <td>973</td>\n",
       "    </tr>\n",
       "  </tbody>\n",
       "</table>\n",
       "</div>"
      ],
      "text/plain": [
       "    Country  Count\n",
       "0        US  10538\n",
       "1    France   3286\n",
       "2     Italy   3228\n",
       "3     Spain   1239\n",
       "4  Portugal    973"
      ]
     },
     "execution_count": 5,
     "metadata": {},
     "output_type": "execute_result"
    }
   ],
   "source": [
    "popCountries.rename({'index':'Country','Country':'Count'},axis=1,inplace=True)\n",
    "#Show the difference between the US and the other countries in the top 5.\n",
    "popCountries"
   ]
  },
  {
   "cell_type": "markdown",
   "metadata": {},
   "source": [
    "#### Let's compare the US to all of the other countries (France, Italy, Spain, Portugal) in the top 5"
   ]
  },
  {
   "cell_type": "code",
   "execution_count": 6,
   "metadata": {},
   "outputs": [],
   "source": [
    "usAndNotUs = popCountries.copy()\n",
    "usAndNotUs['Country'] = usAndNotUs['Country'].apply(lambda x: 'US' if x == 'US' else 'Not US')\n",
    "usAndNotUs = usAndNotUs.groupby('Country')['Count'].sum().reset_index()"
   ]
  },
  {
   "cell_type": "code",
   "execution_count": 7,
   "metadata": {},
   "outputs": [
    {
     "data": {
      "image/png": "[encoded data removed]",
      "text/plain": [
       "<Figure size 432x288 with 1 Axes>"
      ]
     },
     "metadata": {
      "needs_background": "light"
     },
     "output_type": "display_data"
    }
   ],
   "source": [
    "usAndNotUs.sort_values('Count',ascending=False,inplace=True)\n",
    "usAndNotUsBar = sns.barplot(data=usAndNotUs,x='Country',y='Count')\n",
    "plt.show()"
   ]
  },
  {
   "cell_type": "markdown",
   "metadata": {},
   "source": [
    "#### Price Analysis\n",
    "*There is quite a few nulls in the price column of this dataset so those will be dropped for this analysis since interpolating the results would be difficult and most likely not reflect the actual prices.*\n",
    "\n",
    "#### Let's look at the top 5 countries in this dataset and the mean price for their wines"
   ]
  },
  {
   "cell_type": "code",
   "execution_count": 8,
   "metadata": {},
   "outputs": [],
   "source": [
    "popCountriesPrice = df[df['Country'].isin(popCountries['Country'].tolist())]\n",
    "popCountriesPrice = popCountriesPrice.groupby('Country')['Price'].mean().reset_index()"
   ]
  },
  {
   "cell_type": "code",
   "execution_count": 9,
   "metadata": {},
   "outputs": [],
   "source": [
    "popCountriesPrice.sort_values('Price',ascending=False,inplace=True)"
   ]
  },
  {
   "cell_type": "code",
   "execution_count": 10,
   "metadata": {},
   "outputs": [
    {
     "data": {
      "image/png": "[encoded data removed]",
      "text/plain": [
       "<Figure size 432x288 with 1 Axes>"
      ]
     },
     "metadata": {
      "needs_background": "light"
     },
     "output_type": "display_data"
    }
   ],
   "source": [
    "popCountriesPriceBar = sns.barplot(data=popCountriesPrice,x='Country',y='Price')\n",
    "plt.show()"
   ]
  },
  {
   "cell_type": "markdown",
   "metadata": {},
   "source": [
    "#### Let's see the specific numbers for each of the countries"
   ]
  },
  {
   "cell_type": "code",
   "execution_count": 11,
   "metadata": {},
   "outputs": [
    {
     "data": {
      "text/html": [
       "<div>\n",
       "<style scoped>\n",
       "    .dataframe tbody tr th:only-of-type {\n",
       "        vertical-align: middle;\n",
       "    }\n",
       "\n",
       "    .dataframe tbody tr th {\n",
       "        vertical-align: top;\n",
       "    }\n",
       "\n",
       "    .dataframe thead th {\n",
       "        text-align: right;\n",
       "    }\n",
       "</style>\n",
       "<table border=\"1\" class=\"dataframe\">\n",
       "  <thead>\n",
       "    <tr style=\"text-align: right;\">\n",
       "      <th></th>\n",
       "      <th>Country</th>\n",
       "      <th>Price</th>\n",
       "    </tr>\n",
       "  </thead>\n",
       "  <tbody>\n",
       "    <tr>\n",
       "      <th>0</th>\n",
       "      <td>France</td>\n",
       "      <td>41.340231</td>\n",
       "    </tr>\n",
       "    <tr>\n",
       "      <th>1</th>\n",
       "      <td>Italy</td>\n",
       "      <td>39.318773</td>\n",
       "    </tr>\n",
       "    <tr>\n",
       "      <th>4</th>\n",
       "      <td>US</td>\n",
       "      <td>36.917821</td>\n",
       "    </tr>\n",
       "    <tr>\n",
       "      <th>3</th>\n",
       "      <td>Spain</td>\n",
       "      <td>28.307506</td>\n",
       "    </tr>\n",
       "    <tr>\n",
       "      <th>2</th>\n",
       "      <td>Portugal</td>\n",
       "      <td>24.620761</td>\n",
       "    </tr>\n",
       "  </tbody>\n",
       "</table>\n",
       "</div>"
      ],
      "text/plain": [
       "    Country      Price\n",
       "0    France  41.340231\n",
       "1     Italy  39.318773\n",
       "4        US  36.917821\n",
       "3     Spain  28.307506\n",
       "2  Portugal  24.620761"
      ]
     },
     "execution_count": 11,
     "metadata": {},
     "output_type": "execute_result"
    }
   ],
   "source": [
    "popCountriesPrice"
   ]
  },
  {
   "cell_type": "markdown",
   "metadata": {},
   "source": [
    "#### Now to answer the question that everyone has been thinking about: Do you have to buy an expensive bottle of wine to get a *good one?\n",
    "\n",
    "*A good wine in this analysis is one that scores high on the points scale*\n",
    "\n",
    "#### To start off this analysis lets look at a scatterplot between price and points"
   ]
  },
  {
   "cell_type": "code",
   "execution_count": 12,
   "metadata": {},
   "outputs": [
    {
     "data": {
      "image/png": "[encoded data removed]",
      "text/plain": [
       "<Figure size 432x288 with 1 Axes>"
      ]
     },
     "metadata": {
      "needs_background": "light"
     },
     "output_type": "display_data"
    }
   ],
   "source": [
    "pricePointsScatter = sns.scatterplot(data=df,x='Price',y='Points')\n",
    "plt.show()"
   ]
  },
  {
   "cell_type": "markdown",
   "metadata": {},
   "source": [
    "#### Seems like some outliers are really taking away from the effectiveness of the scatterplot, let's drop them then.\n",
    "\n",
    "*In this analysis any wine that costs more than 500$ will be dropped, since most people aren't prepared to spend their rent on a liquid made from grapes*"
   ]
  },
  {
   "cell_type": "code",
   "execution_count": 13,
   "metadata": {},
   "outputs": [
    {
     "data": {
      "image/png": "[encoded data removed]",
      "text/plain": [
       "<Figure size 432x288 with 1 Axes>"
      ]
     },
     "metadata": {
      "needs_background": "light"
     },
     "output_type": "display_data"
    }
   ],
   "source": [
    "pricesPointsSubset = df[df['Price']<500]\n",
    "pricePointsScatter = sns.scatterplot(data=pricesPointsSubset,x='Price',y='Points')"
   ]
  },
  {
   "cell_type": "markdown",
   "metadata": {},
   "source": [
    "#### Charts are nifty but what we want to see is a number that confirms once and for all that you don't need to spend a massive amount of money to get a good wine.\n",
    "\n",
    "*We will then calculate the correlation coefficient between the price and points column in this dataset.*"
   ]
  },
  {
   "cell_type": "code",
   "execution_count": 14,
   "metadata": {},
   "outputs": [
    {
     "data": {
      "text/html": [
       "<div>\n",
       "<style scoped>\n",
       "    .dataframe tbody tr th:only-of-type {\n",
       "        vertical-align: middle;\n",
       "    }\n",
       "\n",
       "    .dataframe tbody tr th {\n",
       "        vertical-align: top;\n",
       "    }\n",
       "\n",
       "    .dataframe thead th {\n",
       "        text-align: right;\n",
       "    }\n",
       "</style>\n",
       "<table border=\"1\" class=\"dataframe\">\n",
       "  <thead>\n",
       "    <tr style=\"text-align: right;\">\n",
       "      <th></th>\n",
       "      <th>Price</th>\n",
       "      <th>Points</th>\n",
       "    </tr>\n",
       "  </thead>\n",
       "  <tbody>\n",
       "    <tr>\n",
       "      <th>Price</th>\n",
       "      <td>1.000000</td>\n",
       "      <td>0.497197</td>\n",
       "    </tr>\n",
       "    <tr>\n",
       "      <th>Points</th>\n",
       "      <td>0.497197</td>\n",
       "      <td>1.000000</td>\n",
       "    </tr>\n",
       "  </tbody>\n",
       "</table>\n",
       "</div>"
      ],
      "text/plain": [
       "           Price    Points\n",
       "Price   1.000000  0.497197\n",
       "Points  0.497197  1.000000"
      ]
     },
     "execution_count": 14,
     "metadata": {},
     "output_type": "execute_result"
    }
   ],
   "source": [
    "pricePointsCorrel = pricesPointsSubset[['Price','Points']].corr()\n",
    "pricePointsCorrel"
   ]
  },
  {
   "cell_type": "markdown",
   "metadata": {},
   "source": [
    "#### A correlation cofficient of ~0.50 makes it seem like you don't have to break the bank to get a good bottle of vino.\n",
    "\n",
    "#### Now that the point above has been proven the next step is to determine what are the best *'bang for your buck wines'\n",
    "*Bang for your buck in the case of this dataset would be equal to wine with a low price and a high score in the points columns*"
   ]
  },
  {
   "cell_type": "markdown",
   "metadata": {},
   "source": [
    "To find the wines that are the cheapest/most affordable and scored the best in terms of points we simply need to sort the base DataFrame by the price in **ascending** order and then the points in **descending** order. - See code below"
   ]
  },
  {
   "cell_type": "code",
   "execution_count": 29,
   "metadata": {},
   "outputs": [
    {
     "data": {
      "text/html": [
       "<div>\n",
       "<style scoped>\n",
       "    .dataframe tbody tr th:only-of-type {\n",
       "        vertical-align: middle;\n",
       "    }\n",
       "\n",
       "    .dataframe tbody tr th {\n",
       "        vertical-align: top;\n",
       "    }\n",
       "\n",
       "    .dataframe thead th {\n",
       "        text-align: right;\n",
       "    }\n",
       "</style>\n",
       "<table border=\"1\" class=\"dataframe\">\n",
       "  <thead>\n",
       "    <tr style=\"text-align: right;\">\n",
       "      <th></th>\n",
       "      <th>Vintage</th>\n",
       "      <th>Country</th>\n",
       "      <th>County</th>\n",
       "      <th>Designation</th>\n",
       "      <th>Points</th>\n",
       "      <th>Price</th>\n",
       "      <th>Province</th>\n",
       "      <th>Title</th>\n",
       "      <th>Variety</th>\n",
       "      <th>Winery</th>\n",
       "    </tr>\n",
       "  </thead>\n",
       "  <tbody>\n",
       "    <tr>\n",
       "      <th>6133</th>\n",
       "      <td>2009-01-01 00:00:00</td>\n",
       "      <td>Argentina</td>\n",
       "      <td>Mendoza</td>\n",
       "      <td>Red</td>\n",
       "      <td>84</td>\n",
       "      <td>4.0</td>\n",
       "      <td>Mendoza Province</td>\n",
       "      <td>Broke Ass 2009 Red Malbec-Syrah (Mendoza)</td>\n",
       "      <td>Malbec-Syrah</td>\n",
       "      <td>Broke Ass</td>\n",
       "    </tr>\n",
       "    <tr>\n",
       "      <th>21758</th>\n",
       "      <td>2014-01-01 00:00:00</td>\n",
       "      <td>US</td>\n",
       "      <td>California</td>\n",
       "      <td>Organic Grapes</td>\n",
       "      <td>85</td>\n",
       "      <td>5.0</td>\n",
       "      <td>California</td>\n",
       "      <td>Earth's Harvest 2014 Organic Grapes Chardonnay...</td>\n",
       "      <td>Chardonnay</td>\n",
       "      <td>Earth's Harvest</td>\n",
       "    </tr>\n",
       "    <tr>\n",
       "      <th>1956</th>\n",
       "      <td>2006-01-01 00:00:00</td>\n",
       "      <td>Australia</td>\n",
       "      <td>South Eastern Australia</td>\n",
       "      <td>NaN</td>\n",
       "      <td>83</td>\n",
       "      <td>5.0</td>\n",
       "      <td>Australia Other</td>\n",
       "      <td>Kelly's Revenge 2006 Chardonnay (South Eastern...</td>\n",
       "      <td>Chardonnay</td>\n",
       "      <td>Kelly's Revenge</td>\n",
       "    </tr>\n",
       "    <tr>\n",
       "      <th>13141</th>\n",
       "      <td>2012-01-01 00:00:00</td>\n",
       "      <td>Spain</td>\n",
       "      <td>Yecla</td>\n",
       "      <td>Estate Bottled</td>\n",
       "      <td>83</td>\n",
       "      <td>5.0</td>\n",
       "      <td>Levante</td>\n",
       "      <td>Terrenal 2012 Estate Bottled Cabernet Sauvigno...</td>\n",
       "      <td>Cabernet Sauvignon</td>\n",
       "      <td>Terrenal</td>\n",
       "    </tr>\n",
       "    <tr>\n",
       "      <th>683</th>\n",
       "      <td>2002-01-01 00:00:00</td>\n",
       "      <td>Chile</td>\n",
       "      <td>NaN</td>\n",
       "      <td>Gato Negro</td>\n",
       "      <td>82</td>\n",
       "      <td>5.0</td>\n",
       "      <td>Lontué Valley</td>\n",
       "      <td>San Pedro 2002 Gato Negro Merlot (Lontué Valley)</td>\n",
       "      <td>Merlot</td>\n",
       "      <td>San Pedro</td>\n",
       "    </tr>\n",
       "    <tr>\n",
       "      <th>604</th>\n",
       "      <td>2001-01-01 00:00:00</td>\n",
       "      <td>US</td>\n",
       "      <td>Idaho</td>\n",
       "      <td>Dry</td>\n",
       "      <td>88</td>\n",
       "      <td>6.0</td>\n",
       "      <td>Idaho</td>\n",
       "      <td>Ste. Chapelle 2001 Dry Riesling (Idaho)</td>\n",
       "      <td>Riesling</td>\n",
       "      <td>Ste. Chapelle</td>\n",
       "    </tr>\n",
       "    <tr>\n",
       "      <th>2164</th>\n",
       "      <td>2006-01-01 00:00:00</td>\n",
       "      <td>US</td>\n",
       "      <td>Washington</td>\n",
       "      <td>NaN</td>\n",
       "      <td>87</td>\n",
       "      <td>6.0</td>\n",
       "      <td>Washington</td>\n",
       "      <td>Pine &amp; Post 2006 Chardonnay (Washington)</td>\n",
       "      <td>Chardonnay</td>\n",
       "      <td>Pine &amp; Post</td>\n",
       "    </tr>\n",
       "    <tr>\n",
       "      <th>16716</th>\n",
       "      <td>2013-01-01 00:00:00</td>\n",
       "      <td>Germany</td>\n",
       "      <td>NaN</td>\n",
       "      <td>Kabinett</td>\n",
       "      <td>87</td>\n",
       "      <td>6.0</td>\n",
       "      <td>Mosel</td>\n",
       "      <td>Johannes Kunz 2013 Kabinett Riesling (Mosel)</td>\n",
       "      <td>Riesling</td>\n",
       "      <td>Johannes Kunz</td>\n",
       "    </tr>\n",
       "    <tr>\n",
       "      <th>24555</th>\n",
       "      <td>2016-01-01 00:00:00</td>\n",
       "      <td>Chile</td>\n",
       "      <td>NaN</td>\n",
       "      <td>120 Reserva Especial</td>\n",
       "      <td>87</td>\n",
       "      <td>6.0</td>\n",
       "      <td>Central Valley</td>\n",
       "      <td>Santa Rita 2016 120 Reserva Especial Chardonna...</td>\n",
       "      <td>Chardonnay</td>\n",
       "      <td>Santa Rita</td>\n",
       "    </tr>\n",
       "    <tr>\n",
       "      <th>23798</th>\n",
       "      <td>2015-01-01 00:00:00</td>\n",
       "      <td>Portugal</td>\n",
       "      <td>NaN</td>\n",
       "      <td>Casaleiro Colheita Seleccionada</td>\n",
       "      <td>86</td>\n",
       "      <td>6.0</td>\n",
       "      <td>Tejo</td>\n",
       "      <td>Caves Velhas 2015 Casaleiro Colheita Seleccion...</td>\n",
       "      <td>Portuguese Red</td>\n",
       "      <td>Caves Velhas</td>\n",
       "    </tr>\n",
       "  </tbody>\n",
       "</table>\n",
       "</div>"
      ],
      "text/plain": [
       "                   Vintage    Country                   County  \\\n",
       "6133   2009-01-01 00:00:00  Argentina                  Mendoza   \n",
       "21758  2014-01-01 00:00:00         US               California   \n",
       "1956   2006-01-01 00:00:00  Australia  South Eastern Australia   \n",
       "13141  2012-01-01 00:00:00      Spain                    Yecla   \n",
       "683    2002-01-01 00:00:00      Chile                      NaN   \n",
       "604    2001-01-01 00:00:00         US                    Idaho   \n",
       "2164   2006-01-01 00:00:00         US               Washington   \n",
       "16716  2013-01-01 00:00:00    Germany                      NaN   \n",
       "24555  2016-01-01 00:00:00      Chile                      NaN   \n",
       "23798  2015-01-01 00:00:00   Portugal                      NaN   \n",
       "\n",
       "                           Designation  Points  Price          Province  \\\n",
       "6133                               Red      84    4.0  Mendoza Province   \n",
       "21758                   Organic Grapes      85    5.0        California   \n",
       "1956                               NaN      83    5.0   Australia Other   \n",
       "13141                   Estate Bottled      83    5.0           Levante   \n",
       "683                         Gato Negro      82    5.0     Lontué Valley   \n",
       "604                                Dry      88    6.0             Idaho   \n",
       "2164                               NaN      87    6.0        Washington   \n",
       "16716                         Kabinett      87    6.0             Mosel   \n",
       "24555             120 Reserva Especial      87    6.0    Central Valley   \n",
       "23798  Casaleiro Colheita Seleccionada      86    6.0              Tejo   \n",
       "\n",
       "                                                   Title             Variety  \\\n",
       "6133           Broke Ass 2009 Red Malbec-Syrah (Mendoza)        Malbec-Syrah   \n",
       "21758  Earth's Harvest 2014 Organic Grapes Chardonnay...          Chardonnay   \n",
       "1956   Kelly's Revenge 2006 Chardonnay (South Eastern...          Chardonnay   \n",
       "13141  Terrenal 2012 Estate Bottled Cabernet Sauvigno...  Cabernet Sauvignon   \n",
       "683     San Pedro 2002 Gato Negro Merlot (Lontué Valley)              Merlot   \n",
       "604              Ste. Chapelle 2001 Dry Riesling (Idaho)            Riesling   \n",
       "2164            Pine & Post 2006 Chardonnay (Washington)          Chardonnay   \n",
       "16716       Johannes Kunz 2013 Kabinett Riesling (Mosel)            Riesling   \n",
       "24555  Santa Rita 2016 120 Reserva Especial Chardonna...          Chardonnay   \n",
       "23798  Caves Velhas 2015 Casaleiro Colheita Seleccion...      Portuguese Red   \n",
       "\n",
       "                Winery  \n",
       "6133         Broke Ass  \n",
       "21758  Earth's Harvest  \n",
       "1956   Kelly's Revenge  \n",
       "13141         Terrenal  \n",
       "683          San Pedro  \n",
       "604      Ste. Chapelle  \n",
       "2164       Pine & Post  \n",
       "16716    Johannes Kunz  \n",
       "24555       Santa Rita  \n",
       "23798     Caves Velhas  "
      ]
     },
     "execution_count": 29,
     "metadata": {},
     "output_type": "execute_result"
    }
   ],
   "source": [
    "bfybWines  = df.sort_values(['Price','Points'],ascending=[True,False]).head(10)\n",
    "bfybWines"
   ]
  },
  {
   "cell_type": "markdown",
   "metadata": {},
   "source": [
    "#### Another way of looking at some of the wines is by creating a weighting system based off of their price and points.\n",
    "In this analysis the following weighting will be applied:\n",
    "+ The price will be multiplied by -0.5 since a lower price is more desireable.\n",
    "+ The points will be multiplied by +0.8 since a higher score is more desireable.\n",
    "\n",
    "The code below shows the creation of the PP_Weight column (Price-Points) and then the creation of a new DataFrame that only contains the price, points and PP_Weight column."
   ]
  },
  {
   "cell_type": "code",
   "execution_count": 40,
   "metadata": {},
   "outputs": [
    {
     "data": {
      "text/html": [
       "<div>\n",
       "<style scoped>\n",
       "    .dataframe tbody tr th:only-of-type {\n",
       "        vertical-align: middle;\n",
       "    }\n",
       "\n",
       "    .dataframe tbody tr th {\n",
       "        vertical-align: top;\n",
       "    }\n",
       "\n",
       "    .dataframe thead th {\n",
       "        text-align: right;\n",
       "    }\n",
       "</style>\n",
       "<table border=\"1\" class=\"dataframe\">\n",
       "  <thead>\n",
       "    <tr style=\"text-align: right;\">\n",
       "      <th></th>\n",
       "      <th>Points</th>\n",
       "      <th>Price</th>\n",
       "      <th>PP_Weight</th>\n",
       "    </tr>\n",
       "    <tr>\n",
       "      <th>Title</th>\n",
       "      <th></th>\n",
       "      <th></th>\n",
       "      <th></th>\n",
       "    </tr>\n",
       "  </thead>\n",
       "  <tbody>\n",
       "    <tr>\n",
       "      <th>Quinta dos Murças 2011 Assobio Red (Douro)</th>\n",
       "      <td>94</td>\n",
       "      <td>13.0</td>\n",
       "      <td>68.7</td>\n",
       "    </tr>\n",
       "    <tr>\n",
       "      <th>Osborne NV Pedro Ximenez 1827 Sweet Sherry Sherry (Jerez)</th>\n",
       "      <td>94</td>\n",
       "      <td>14.0</td>\n",
       "      <td>68.2</td>\n",
       "    </tr>\n",
       "    <tr>\n",
       "      <th>Pedra Cancela 2010 Seleção do Enólogo Red (Dão)</th>\n",
       "      <td>92</td>\n",
       "      <td>11.0</td>\n",
       "      <td>68.1</td>\n",
       "    </tr>\n",
       "    <tr>\n",
       "      <th>Caves Aliança 2011 Aliança Reserva Red (Dão)</th>\n",
       "      <td>91</td>\n",
       "      <td>10.0</td>\n",
       "      <td>67.8</td>\n",
       "    </tr>\n",
       "    <tr>\n",
       "      <th>Lujon 2015 Riesling (Willamette Valley)</th>\n",
       "      <td>91</td>\n",
       "      <td>10.0</td>\n",
       "      <td>67.8</td>\n",
       "    </tr>\n",
       "    <tr>\n",
       "      <th>Chateau de l'Oiselinière 2014 Les Grands Gâts Sur Lie (Muscadet Sèvre et Maine)</th>\n",
       "      <td>91</td>\n",
       "      <td>10.0</td>\n",
       "      <td>67.8</td>\n",
       "    </tr>\n",
       "    <tr>\n",
       "      <th>Lujon 2009 Pinot Gris (Willamette Valley)</th>\n",
       "      <td>92</td>\n",
       "      <td>12.0</td>\n",
       "      <td>67.6</td>\n",
       "    </tr>\n",
       "    <tr>\n",
       "      <th>Bacalhôa Wines of Portugal 2007 Catarina White (Terras do Sado)</th>\n",
       "      <td>92</td>\n",
       "      <td>12.0</td>\n",
       "      <td>67.6</td>\n",
       "    </tr>\n",
       "    <tr>\n",
       "      <th>Aveleda 2009 Quinta da Aveleda White (Vinho Verde)</th>\n",
       "      <td>90</td>\n",
       "      <td>9.0</td>\n",
       "      <td>67.5</td>\n",
       "    </tr>\n",
       "    <tr>\n",
       "      <th>Aveleda 2015 Quinta da Aveleda White (Vinho Verde)</th>\n",
       "      <td>90</td>\n",
       "      <td>9.0</td>\n",
       "      <td>67.5</td>\n",
       "    </tr>\n",
       "  </tbody>\n",
       "</table>\n",
       "</div>"
      ],
      "text/plain": [
       "                                                    Points  Price  PP_Weight\n",
       "Title                                                                       \n",
       "Quinta dos Murças 2011 Assobio Red (Douro)              94   13.0       68.7\n",
       "Osborne NV Pedro Ximenez 1827 Sweet Sherry Sher...      94   14.0       68.2\n",
       "Pedra Cancela 2010 Seleção do Enólogo Red (Dão)         92   11.0       68.1\n",
       "Caves Aliança 2011 Aliança Reserva Red (Dão)            91   10.0       67.8\n",
       "Lujon 2015 Riesling (Willamette Valley)                 91   10.0       67.8\n",
       "Chateau de l'Oiselinière 2014 Les Grands Gâts S...      91   10.0       67.8\n",
       "Lujon 2009 Pinot Gris (Willamette Valley)               92   12.0       67.6\n",
       "Bacalhôa Wines of Portugal 2007 Catarina White ...      92   12.0       67.6\n",
       "Aveleda 2009 Quinta da Aveleda White (Vinho Verde)      90    9.0       67.5\n",
       "Aveleda 2015 Quinta da Aveleda White (Vinho Verde)      90    9.0       67.5"
      ]
     },
     "execution_count": 40,
     "metadata": {},
     "output_type": "execute_result"
    }
   ],
   "source": [
    "#Creation of new column 'PP_Weight'\n",
    "weightedDF = df.copy()\n",
    "\n",
    "weightedDF['PP_Weight'] = weightedDF.apply(lambda x: (x['Price']*-0.5 + x['Points']*0.8),axis=1)\n",
    "                                           \n",
    "dropColumns = [col for col in weightedDF.columns if col not in ['Price','Points','PP_Weight','Title']]\n",
    "                                           \n",
    "weightedDFSub = weightedDF.drop(dropColumns,axis=1)\n",
    "                                           \n",
    "weightedDFSub.sort_values('PP_Weight',ascending=False,inplace=True)\n",
    "                                           \n",
    "ppWeightTop10 = weightedDFSub.head(10)\n",
    "                                           \n",
    "ppWeightTop10.set_index('Title',inplace=True)\n",
    "                                           \n",
    "ppWeightTop10"
   ]
  },
  {
   "cell_type": "markdown",
   "metadata": {},
   "source": [
    "#### An analysis that could lead to some interesting results would be seeing what countries have the highest mean for the PP_Weight column.\n",
    "\n",
    "The code below will look at the top 5 countries based off of PP_Weight and create a chart displaying them."
   ]
  },
  {
   "cell_type": "code",
   "execution_count": 45,
   "metadata": {},
   "outputs": [],
   "source": [
    "weightedDF.sort_values('PP_Weight',inplace=True,ascending=False)\n",
    "meanPPWeight = weightedDF.groupby('Country')['PP_Weight'].mean().reset_index()"
   ]
  },
  {
   "cell_type": "code",
   "execution_count": 48,
   "metadata": {},
   "outputs": [
    {
     "data": {
      "text/html": [
       "<div>\n",
       "<style scoped>\n",
       "    .dataframe tbody tr th:only-of-type {\n",
       "        vertical-align: middle;\n",
       "    }\n",
       "\n",
       "    .dataframe tbody tr th {\n",
       "        vertical-align: top;\n",
       "    }\n",
       "\n",
       "    .dataframe thead th {\n",
       "        text-align: right;\n",
       "    }\n",
       "</style>\n",
       "<table border=\"1\" class=\"dataframe\">\n",
       "  <thead>\n",
       "    <tr style=\"text-align: right;\">\n",
       "      <th></th>\n",
       "      <th>Country</th>\n",
       "      <th>PP_Weight</th>\n",
       "    </tr>\n",
       "  </thead>\n",
       "  <tbody>\n",
       "    <tr>\n",
       "      <th>35</th>\n",
       "      <td>Ukraine</td>\n",
       "      <td>64.200000</td>\n",
       "    </tr>\n",
       "    <tr>\n",
       "      <th>15</th>\n",
       "      <td>India</td>\n",
       "      <td>64.100000</td>\n",
       "    </tr>\n",
       "    <tr>\n",
       "      <th>4</th>\n",
       "      <td>Bulgaria</td>\n",
       "      <td>62.361290</td>\n",
       "    </tr>\n",
       "    <tr>\n",
       "      <th>20</th>\n",
       "      <td>Macedonia</td>\n",
       "      <td>61.875000</td>\n",
       "    </tr>\n",
       "    <tr>\n",
       "      <th>22</th>\n",
       "      <td>Moldova</td>\n",
       "      <td>61.690909</td>\n",
       "    </tr>\n",
       "  </tbody>\n",
       "</table>\n",
       "</div>"
      ],
      "text/plain": [
       "      Country  PP_Weight\n",
       "35    Ukraine  64.200000\n",
       "15      India  64.100000\n",
       "4    Bulgaria  62.361290\n",
       "20  Macedonia  61.875000\n",
       "22    Moldova  61.690909"
      ]
     },
     "execution_count": 48,
     "metadata": {},
     "output_type": "execute_result"
    }
   ],
   "source": [
    "meanPPWeight.sort_values('PP_Weight',inplace=True,ascending=False)\n",
    "meanPPWeightTop5 = meanPPWeight.head(5)\n",
    "meanPPWeightTop5"
   ]
  },
  {
   "cell_type": "code",
   "execution_count": 49,
   "metadata": {},
   "outputs": [
    {
     "data": {
      "image/png": "[encoded data removed]",
      "text/plain": [
       "<Figure size 432x288 with 1 Axes>"
      ]
     },
     "metadata": {
      "needs_background": "light"
     },
     "output_type": "display_data"
    }
   ],
   "source": [
    "meanPPWeightBar = sns.barplot(data=meanPPWeightTop5,x='Country',y='PP_Weight')\n",
    "plt.show()"
   ]
  },
  {
   "cell_type": "markdown",
   "metadata": {},
   "source": [
    "#### Some of the countries in the chart above are unexpected, and raise the question of how many different wines did they have in the dataset to begin with?\n",
    "\n",
    "The code below shows how many rows in the dataset are from each of the countries in the chart above to see if there is a sufficient amount of data to include them in this analysis."
   ]
  },
  {
   "cell_type": "code",
   "execution_count": 53,
   "metadata": {},
   "outputs": [
    {
     "name": "stdout",
     "output_type": "stream",
     "text": [
      "{'US': 10538, 'France': 3286, 'Italy': 3228, 'Spain': 1239, 'Portugal': 973}\n"
     ]
    }
   ],
   "source": [
    "countryValCount = dict(df['Country'].value_counts())\n",
    "\n",
    "#Showing the a sample of the dictionary that contains the row counts for each of the countries in the dataset.\n",
    "print(dict(zip(list(countryValCount.keys())[:5],list(countryValCount.values())[:5])))"
   ]
  },
  {
   "cell_type": "code",
   "execution_count": 55,
   "metadata": {},
   "outputs": [
    {
     "data": {
      "text/html": [
       "<div>\n",
       "<style scoped>\n",
       "    .dataframe tbody tr th:only-of-type {\n",
       "        vertical-align: middle;\n",
       "    }\n",
       "\n",
       "    .dataframe tbody tr th {\n",
       "        vertical-align: top;\n",
       "    }\n",
       "\n",
       "    .dataframe thead th {\n",
       "        text-align: right;\n",
       "    }\n",
       "</style>\n",
       "<table border=\"1\" class=\"dataframe\">\n",
       "  <thead>\n",
       "    <tr style=\"text-align: right;\">\n",
       "      <th></th>\n",
       "      <th>Country</th>\n",
       "      <th>Row Count</th>\n",
       "    </tr>\n",
       "  </thead>\n",
       "  <tbody>\n",
       "    <tr>\n",
       "      <th>0</th>\n",
       "      <td>Ukraine</td>\n",
       "      <td>3</td>\n",
       "    </tr>\n",
       "    <tr>\n",
       "      <th>1</th>\n",
       "      <td>India</td>\n",
       "      <td>1</td>\n",
       "    </tr>\n",
       "    <tr>\n",
       "      <th>2</th>\n",
       "      <td>Bulgaria</td>\n",
       "      <td>31</td>\n",
       "    </tr>\n",
       "    <tr>\n",
       "      <th>3</th>\n",
       "      <td>Macedonia</td>\n",
       "      <td>4</td>\n",
       "    </tr>\n",
       "    <tr>\n",
       "      <th>4</th>\n",
       "      <td>Moldova</td>\n",
       "      <td>11</td>\n",
       "    </tr>\n",
       "  </tbody>\n",
       "</table>\n",
       "</div>"
      ],
      "text/plain": [
       "     Country  Row Count\n",
       "0    Ukraine          3\n",
       "1      India          1\n",
       "2   Bulgaria         31\n",
       "3  Macedonia          4\n",
       "4    Moldova         11"
      ]
     },
     "execution_count": 55,
     "metadata": {},
     "output_type": "execute_result"
    }
   ],
   "source": [
    "outList = [] # <- This will be used to store the country name and row count for each of the countries in the top 5.\n",
    "for i,row in meanPPWeightTop5.iterrows():\n",
    "    outList.append([row['Country'],countryValCount[row['Country']]])\n",
    "\n",
    "meanPPWeightTop5Check = pd.DataFrame(outList,columns=['Country','Row Count'])\n",
    "meanPPWeightTop5Check"
   ]
  },
  {
   "cell_type": "markdown",
   "metadata": {},
   "source": [
    "#### Each of the countries in the orginal meanPPWeightTop5 DataFrame account for a miniscule portion (0.213%) of the overall dataset and therefore we will complete the analysis again but this time only look at countries that have more than 30 rows in the dataset."
   ]
  },
  {
   "cell_type": "code",
   "execution_count": 62,
   "metadata": {},
   "outputs": [],
   "source": [
    "meanPPWeight['Row Count'] = meanPPWeight['Country'].map(countryValCount)"
   ]
  },
  {
   "cell_type": "code",
   "execution_count": 66,
   "metadata": {},
   "outputs": [],
   "source": [
    "meanPPWeightTop5V2 = meanPPWeight[meanPPWeight['Row Count'] > 30].sort_values('PP_Weight',ascending=False).head(5)"
   ]
  },
  {
   "cell_type": "code",
   "execution_count": 67,
   "metadata": {},
   "outputs": [
    {
     "data": {
      "text/html": [
       "<div>\n",
       "<style scoped>\n",
       "    .dataframe tbody tr th:only-of-type {\n",
       "        vertical-align: middle;\n",
       "    }\n",
       "\n",
       "    .dataframe tbody tr th {\n",
       "        vertical-align: top;\n",
       "    }\n",
       "\n",
       "    .dataframe thead th {\n",
       "        text-align: right;\n",
       "    }\n",
       "</style>\n",
       "<table border=\"1\" class=\"dataframe\">\n",
       "  <thead>\n",
       "    <tr style=\"text-align: right;\">\n",
       "      <th></th>\n",
       "      <th>Country</th>\n",
       "      <th>PP_Weight</th>\n",
       "      <th>Row Count</th>\n",
       "    </tr>\n",
       "  </thead>\n",
       "  <tbody>\n",
       "    <tr>\n",
       "      <th>4</th>\n",
       "      <td>Bulgaria</td>\n",
       "      <td>62.361290</td>\n",
       "      <td>31</td>\n",
       "    </tr>\n",
       "    <tr>\n",
       "      <th>6</th>\n",
       "      <td>Chile</td>\n",
       "      <td>58.984657</td>\n",
       "      <td>919</td>\n",
       "    </tr>\n",
       "    <tr>\n",
       "      <th>13</th>\n",
       "      <td>Greece</td>\n",
       "      <td>58.734247</td>\n",
       "      <td>73</td>\n",
       "    </tr>\n",
       "    <tr>\n",
       "      <th>26</th>\n",
       "      <td>Portugal</td>\n",
       "      <td>58.410277</td>\n",
       "      <td>973</td>\n",
       "    </tr>\n",
       "    <tr>\n",
       "      <th>2</th>\n",
       "      <td>Austria</td>\n",
       "      <td>57.474165</td>\n",
       "      <td>569</td>\n",
       "    </tr>\n",
       "  </tbody>\n",
       "</table>\n",
       "</div>"
      ],
      "text/plain": [
       "     Country  PP_Weight  Row Count\n",
       "4   Bulgaria  62.361290         31\n",
       "6      Chile  58.984657        919\n",
       "13    Greece  58.734247         73\n",
       "26  Portugal  58.410277        973\n",
       "2    Austria  57.474165        569"
      ]
     },
     "execution_count": 67,
     "metadata": {},
     "output_type": "execute_result"
    }
   ],
   "source": [
    "meanPPWeightTop5V2"
   ]
  },
  {
   "cell_type": "markdown",
   "metadata": {},
   "source": [
    "#### Now the countries that appear in the list have a larger wine sample base to choose from. The only country that remained in the original meanPPWeightTop5 and this one is Bulgaria. "
   ]
  },
  {
   "cell_type": "code",
   "execution_count": 69,
   "metadata": {},
   "outputs": [
    {
     "data": {
      "image/png": "[encoded data removed]",
      "text/plain": [
       "<Figure size 432x288 with 1 Axes>"
      ]
     },
     "metadata": {
      "needs_background": "light"
     },
     "output_type": "display_data"
    }
   ],
   "source": [
    "# Visual the results for consistency\n",
    "meanPPWeightBarV2 = sns.barplot(data=meanPPWeightTop5V2,x='Country',y='PP_Weight')\n",
    "plt.show()"
   ]
  },
  {
   "cell_type": "markdown",
   "metadata": {},
   "source": [
    "### If you made it this far I would like to thank you for finding it interesting enough to dedicate the time towards reading it.\n",
    "\n",
    "**If you found any inconsistencies or have any recommendations for further analysis please feel free to reach out.**"
   ]
  },
  {
   "cell_type": "code",
   "execution_count": null,
   "metadata": {},
   "outputs": [],
   "source": []
  }
 ],
 "metadata": {
  "kernelspec": {
   "display_name": "Python 3",
   "language": "python",
   "name": "python3"
  },
  "language_info": {
   "codemirror_mode": {
    "name": "ipython",
    "version": 3
   },
   "file_extension": ".py",
   "mimetype": "text/x-python",
   "name": "python",
   "nbconvert_exporter": "python",
   "pygments_lexer": "ipython3",
   "version": "3.7.1"
  }
 },
 "nbformat": 4,
 "nbformat_minor": 2
}
